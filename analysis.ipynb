{
 "cells": [
  {
   "cell_type": "code",
   "execution_count": null,
   "id": "7949cfac",
   "metadata": {},
   "outputs": [],
   "source": [
    "url = \"http://127.0.0.1:5000/home\""
   ]
  },
  {
   "cell_type": "code",
   "execution_count": null,
   "id": "953829d9-351b-45e4-a413-29e035c5f966",
   "metadata": {},
   "outputs": [],
   "source": [
    "import requests\n",
    "import re\n",
    "import json\n",
    "from typing import Dict\n",
    "\n",
    "def extract_server_name(response):\n",
    "    message = response.get(\"message\", \"\")\n",
    "    match = re.search(r'Server: (\\w+)', message)\n",
    "\n",
    "    if match:\n",
    "        return match.group(1)\n",
    "    else:\n",
    "        return None\n",
    "\n",
    "\n",
    "def make_requests(count: int) -> Dict[str, int]:\n",
    "\n",
    "    \"\"\"\n",
    "    In this task, you test and analyze the performance of your load balancer implementation in different scenarios. \n",
    "    \"\"\"\n",
    "    server_count = {}\n",
    "    for i in range(count):\n",
    "        try:\n",
    "            response = requests.get(url)\n",
    "\n",
    "            server_name = extract_server_name(response.json())\n",
    "\n",
    "            if server_name:\n",
    "\n",
    "                if server_name in server_count.keys():\n",
    "                    server_count[server_name] += 1\n",
    "                else:\n",
    "                    server_count[server_name] = 1\n",
    "        except:\n",
    "            pass\n",
    "    return server_count\n"
   ]
  },
  {
   "cell_type": "code",
   "execution_count": null,
   "id": "41ef2bd1",
   "metadata": {},
   "outputs": [],
   "source": [
    "import matplotlib.pyplot as plt\n",
    "import seaborn as sns\n"
   ]
  },
  {
   "cell_type": "code",
   "execution_count": null,
   "id": "c9e1cdc1",
   "metadata": {},
   "outputs": [],
   "source": [
    "sns.set_theme(style=\"whitegrid\", color_codes=True)\n"
   ]
  },
  {
   "cell_type": "code",
   "execution_count": null,
   "id": "688df27f",
   "metadata": {},
   "outputs": [],
   "source": [
    "def draw_bar_chart(server_count: Dict[str, int]):\n",
    "\n",
    "    \"\"\"\n",
    "    Launch 10000 async requests on N = 3 server containers and report the request count handled by each server instance \n",
    "    in a bar chart. Explain your observations in the graph and your view on the performance.\n",
    "    \"\"\"\n",
    "\n",
    "    plt.title(\"Experiment 1: Launch 10000 async requests on N = 3\")\n",
    "    plt.xlabel(\"Server Name\")\n",
    "    plt.ylabel(\"Request Count\")\n",
    "    \n",
    "    sns.barplot(x=server_count.keys(), y=server_count.values(),palette=['blue', 'blue', 'blue', 'purple','red','purple'])\n",
    "    plt.show()\n",
    "    "
   ]
  },
  {
   "cell_type": "code",
   "execution_count": null,
   "id": "de0caf57",
   "metadata": {},
   "outputs": [],
   "source": [
    "requests =   make_requests(10000)\n"
   ]
  },
  {
   "cell_type": "code",
   "execution_count": null,
   "id": "b81b6e7e",
   "metadata": {},
   "outputs": [],
   "source": [
    "requests"
   ]
  },
  {
   "cell_type": "code",
   "execution_count": null,
   "id": "49d5989b",
   "metadata": {},
   "outputs": [],
   "source": [
    "draw_bar_chart(requests)"
   ]
  },
  {
   "cell_type": "code",
   "execution_count": null,
   "id": "48b4efc0",
   "metadata": {},
   "outputs": [],
   "source": [
    "def draw_bar_chart(server_count: Dict[str, int]):\n",
    "\n",
    "    \"\"\"\n",
    "    Launch 10000 async requests on N = 3 server containers and report the request count handled by each server instance \n",
    "    in a bar chart. Explain your observations in the graph and your view on the performance.\n",
    "    \"\"\"\n",
    "\n",
    "    plt.title(\"Experiment 1: Launch 10000 async requests on N = 3\")\n",
    "    plt.xlabel(\"Server Name\")\n",
    "    plt.ylabel(\"Request Count\")\n",
    "    \n",
    "    sns.barplot(x=server_count.keys(), y=server_count.values(),palette=['blue', 'purple', 'blue', 'blue','purple','blue'])\n",
    "    plt.show()\n",
    "    "
   ]
  },
  {
   "cell_type": "code",
   "execution_count": null,
   "id": "86c1a12a",
   "metadata": {},
   "outputs": [],
   "source": [
    "six_servers_request = make_requests(10000)"
   ]
  },
  {
   "cell_type": "code",
   "execution_count": null,
   "id": "35ffa865",
   "metadata": {},
   "outputs": [],
   "source": [
    "draw_bar_chart(six_servers_request)"
   ]
  },
  {
   "cell_type": "code",
   "execution_count": null,
   "id": "f15d4008",
   "metadata": {},
   "outputs": [],
   "source": [
    "six_servers_request2 = make_requests(20000)"
   ]
  },
  {
   "cell_type": "code",
   "execution_count": null,
   "id": "38e90b1a",
   "metadata": {},
   "outputs": [],
   "source": [
    "def draw_line_chart(two,three,four,five,six):\n",
    "    \"\"\"\n",
    "    Next, increment N from 2 to 6 and launch 10000 requests on each such increment. Report the average load of the servers \n",
    "    at each run in a line chart.\n",
    "    \"\"\"\n",
    "    plt.plot(two.keys(), two.values(), label=\"2 Servers\")\n",
    "    plt.plot(three.keys(), three.values(), label=\"3 Servers\")\n",
    "    plt.plot(four.keys(), four.values(), label=\"4 Servers\")\n",
    "    plt.plot(five.keys(), five.values(), label=\"5 Servers\")\n",
    "    plt.plot(six.keys(), six.values(), label=\"6 Servers\")\n",
    "    plt.title(\"Experiment 2: Scalability\")\n",
    "    plt.xlabel(\"Server\")\n",
    "    plt.ylabel(\"Request Count\")\n",
    "    plt.legend()\n",
    "    plt.show()"
   ]
  },
  {
   "cell_type": "code",
   "execution_count": null,
   "id": "7c0987fb",
   "metadata": {},
   "outputs": [],
   "source": [
    "draw_bar_chart(six_servers_request2)"
   ]
  },
  {
   "cell_type": "code",
   "execution_count": null,
   "id": "db93f89a",
   "metadata": {},
   "outputs": [],
   "source": [
    "import requests\n",
    "import matplotlib.pyplot as plt\n",
    "from collections import defaultdict\n",
    "\n",
    "# Function to simulate sending requests to the load balancer\n",
    "def send_requests(load_balancer_url, num_requests=10000):\n",
    "    server_load = defaultdict(int)\n",
    "    for _ in range(num_requests):\n",
    "        response = requests.get(f'{load_balancer_url}/home')\n",
    "        if response.status_code == 200:\n",
    "            server = extract_server_name(response.json())\n",
    "            server_load[server] += 1\n",
    "    return server_load\n",
    "\n",
    "# Function to plot the results\n",
    "def plot_results(results):\n",
    "    x = list(results.keys())\n",
    "    y = [sum(loads.values()) / len(loads) for loads in results.values()]\n",
    "    \n",
    "    plt.figure(figsize=(10, 6))\n",
    "    plt.plot(x, y, marker='o')\n",
    "    plt.xlabel('Number of Servers')\n",
    "    plt.ylabel('Average Load (requests per server)')\n",
    "    plt.title('Scalability Experiment: Average Load Distribution')\n",
    "    plt.grid(True)\n",
    "    plt.show()\n",
    "\n",
    "# Main experiment loop\n",
    "def scalability_experiment(load_balancer_url, initial_servers=2, max_servers=6, num_requests=10000):\n",
    "    results = {}\n",
    "    \n",
    "    for num_servers in range(initial_servers, max_servers + 1):\n",
    "        # Add servers to the load balancer\n",
    "        hostnames = [f'S{i}' for i in range(num_servers)]\n",
    "        data = {'n': len(hostnames), 'hostnames': hostnames}\n",
    "        print(data)\n",
    "        res = requests.post(f'{load_balancer_url}/add', json=data)\n",
    "        if res.status_code >=210:\n",
    "            raise Exception(f\"Failed to add servers: {res.text}\")\n",
    "        \n",
    "        # Send requests and record load\n",
    "        server_load = send_requests(load_balancer_url, num_requests)\n",
    "        results[num_servers] = server_load\n",
    "        \n",
    "        # Print the load distribution for each run\n",
    "        print(f'Number of Servers: {num_servers}')\n",
    "        for server, load in server_load.items():\n",
    "            print(f'{server}: {load} requests')\n",
    "        print('-' * 40)\n",
    "\n",
    "        requests.delete(f'{load_balancer_url}/rm',json=data)\n",
    "        \n",
    "    # Plot the results\n",
    "    plot_results(results)\n",
    "\n",
    "# URL of the load balancer\n",
    "\n",
    "# Run the experiment\n",
    "scalability_experiment(\"http://localhost:5000\")\n"
   ]
  }
 ],
 "metadata": {
  "kernelspec": {
   "display_name": "Python 3 (ipykernel)",
   "language": "python",
   "name": "python3"
  },
  "language_info": {
   "codemirror_mode": {
    "name": "ipython",
    "version": 3
   },
   "file_extension": ".py",
   "mimetype": "text/x-python",
   "name": "python",
   "nbconvert_exporter": "python",
   "pygments_lexer": "ipython3",
   "version": "3.9.13"
  }
 },
 "nbformat": 4,
 "nbformat_minor": 5
}
